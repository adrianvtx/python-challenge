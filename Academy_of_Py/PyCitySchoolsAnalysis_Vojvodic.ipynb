{
 "cells": [
  {
   "cell_type": "markdown",
   "metadata": {
    "toc": true
   },
   "source": [
    "<h1>Table of Contents<span class=\"tocSkip\"></span></h1>\n",
    "<div class=\"toc\"><ul class=\"toc-item\"><li><span><a href=\"#PyCity-Schools-Analysis---Adrian-Vojvodic\" data-toc-modified-id=\"PyCity-Schools-Analysis---Adrian-Vojvodic-1\"><span class=\"toc-item-num\">1&nbsp;&nbsp;</span>PyCity Schools Analysis - Adrian Vojvodic</a></span><ul class=\"toc-item\"><li><ul class=\"toc-item\"><li><span><a href=\"#Note\" data-toc-modified-id=\"Note-1.0.1\"><span class=\"toc-item-num\">1.0.1&nbsp;&nbsp;</span>Note</a></span></li></ul></li><li><span><a href=\"#District-Summary\" data-toc-modified-id=\"District-Summary-1.1\"><span class=\"toc-item-num\">1.1&nbsp;&nbsp;</span>District Summary</a></span></li><li><span><a href=\"#School-Summary\" data-toc-modified-id=\"School-Summary-1.2\"><span class=\"toc-item-num\">1.2&nbsp;&nbsp;</span>School Summary</a></span></li><li><span><a href=\"#Top-Performing-Schools-(By-Passing-Rate)\" data-toc-modified-id=\"Top-Performing-Schools-(By-Passing-Rate)-1.3\"><span class=\"toc-item-num\">1.3&nbsp;&nbsp;</span>Top Performing Schools (By Passing Rate)</a></span></li><li><span><a href=\"#Bottom-Performing-Schools-(By-Passing-Rate)\" data-toc-modified-id=\"Bottom-Performing-Schools-(By-Passing-Rate)-1.4\"><span class=\"toc-item-num\">1.4&nbsp;&nbsp;</span>Bottom Performing Schools (By Passing Rate)</a></span></li><li><span><a href=\"#Math-Scores-by-Grade\" data-toc-modified-id=\"Math-Scores-by-Grade-1.5\"><span class=\"toc-item-num\">1.5&nbsp;&nbsp;</span>Math Scores by Grade</a></span></li><li><span><a href=\"#Reading-Score-by-Grade\" data-toc-modified-id=\"Reading-Score-by-Grade-1.6\"><span class=\"toc-item-num\">1.6&nbsp;&nbsp;</span>Reading Score by Grade</a></span></li><li><span><a href=\"#Scores-by-School-Spending\" data-toc-modified-id=\"Scores-by-School-Spending-1.7\"><span class=\"toc-item-num\">1.7&nbsp;&nbsp;</span>Scores by School Spending</a></span></li><li><span><a href=\"#Scores-by-School-Size\" data-toc-modified-id=\"Scores-by-School-Size-1.8\"><span class=\"toc-item-num\">1.8&nbsp;&nbsp;</span>Scores by School Size</a></span></li><li><span><a href=\"#Scores-by-School-Type\" data-toc-modified-id=\"Scores-by-School-Type-1.9\"><span class=\"toc-item-num\">1.9&nbsp;&nbsp;</span>Scores by School Type</a></span></li></ul></li></ul></div>"
   ]
  },
  {
   "cell_type": "markdown",
   "metadata": {},
   "source": [
    "# PyCity Schools Analysis - Adrian Vojvodic \n",
    "\n",
    "* As a whole, schools with higher budgets, did not yield better test results. Furthermore, schools with higher spending per student between $645-$675 underperformed compared to schools with smaller budgets $585 per student.\n",
    "\n",
    "* As a whole, smaller and medium sized schools dramatically out-performed large sized schools on passing math performances (89-91% passing vs 67%).\n",
    "\n",
    "* As a whole, charter schools out-performed the public district schools across all metrics. However, more analysis will be required to glean if the effect is due to school practices or the fact that charter schools tend to serve smaller student populations per school. \n",
    "---"
   ]
  },
  {
   "cell_type": "markdown",
   "metadata": {},
   "source": [
    "### Note\n",
    "* Below please find stepwise Jupyter Notebook with the assignment description."
   ]
  },
  {
   "cell_type": "code",
   "execution_count": null,
   "metadata": {
    "ExecuteTime": {
     "end_time": "2022-06-23T14:01:47.864711Z",
     "start_time": "2022-06-23T14:01:47.452840Z"
    }
   },
   "outputs": [],
   "source": [
    "# Dependencies and Setup\n",
    "import pandas as pd\n",
    "import numpy as np\n",
    "\n",
    "# File to Load (Remember to Change These)\n",
    "school_data_to_load = \"Resources/schools_complete.csv\"\n",
    "student_data_to_load = \"Resources/students_complete.csv\"\n",
    "\n",
    "# Read School and Student Data File and store into Pandas Data Frames\n",
    "school_data = pd.read_csv(school_data_to_load)\n",
    "student_data = pd.read_csv(student_data_to_load)\n",
    "\n",
    "# Combine the data into a single dataset\n",
    "school_data_complete = pd.merge(student_data, school_data, how=\"left\", on=[\"school_name\", \"school_name\"])\n",
    "sDcPristine=school_data_complete.copy()\n",
    "# school_data_complete.head()"
   ]
  },
  {
   "cell_type": "code",
   "execution_count": null,
   "metadata": {
    "ExecuteTime": {
     "end_time": "2022-06-23T14:01:49.128023Z",
     "start_time": "2022-06-23T14:01:49.103005Z"
    }
   },
   "outputs": [],
   "source": [
    "student_data.head()"
   ]
  },
  {
   "cell_type": "code",
   "execution_count": null,
   "metadata": {
    "ExecuteTime": {
     "end_time": "2022-06-23T14:01:49.531535Z",
     "start_time": "2022-06-23T14:01:49.522375Z"
    }
   },
   "outputs": [],
   "source": [
    "school_data.head()"
   ]
  },
  {
   "cell_type": "markdown",
   "metadata": {},
   "source": [
    "## District Summary\n",
    "\n",
    "* Total number of schools\n",
    "\n",
    "* Total number of students\n",
    "\n",
    "* Total budget\n",
    "\n",
    "* Average math score \n",
    "\n",
    "* Average reading score\n",
    "\n",
    "* Overall passing rate (overall average score), i.e. (avg. math score + avg. reading score)/2\n",
    "\n",
    "* Percentage of students with a passing math score (70 or greater)\n",
    "\n",
    "* Percentage of students with a passing reading score (70 or greater)\n",
    "\n",
    "* Dataframe to hold the above results\n"
   ]
  },
  {
   "cell_type": "code",
   "execution_count": null,
   "metadata": {
    "ExecuteTime": {
     "end_time": "2022-06-23T14:01:49.966620Z",
     "start_time": "2022-06-23T14:01:49.928605Z"
    }
   },
   "outputs": [],
   "source": [
    "school_data_complete.describe()"
   ]
  },
  {
   "cell_type": "code",
   "execution_count": null,
   "metadata": {
    "ExecuteTime": {
     "end_time": "2022-06-23T14:01:50.153302Z",
     "start_time": "2022-06-23T14:01:50.130263Z"
    }
   },
   "outputs": [],
   "source": [
    "school_data_complete.info()"
   ]
  },
  {
   "cell_type": "code",
   "execution_count": null,
   "metadata": {
    "ExecuteTime": {
     "end_time": "2022-06-23T14:01:50.340900Z",
     "start_time": "2022-06-23T14:01:50.324936Z"
    }
   },
   "outputs": [],
   "source": [
    "# * Calculate the total number of schools\n",
    "numSch=school_data['school_name'].count()\n",
    "numSch"
   ]
  },
  {
   "cell_type": "code",
   "execution_count": null,
   "metadata": {
    "ExecuteTime": {
     "end_time": "2022-06-23T14:01:50.540763Z",
     "start_time": "2022-06-23T14:01:50.520764Z"
    }
   },
   "outputs": [],
   "source": [
    "# * Calculate the total number of students\n",
    "numStu=school_data['size'].sum()\n",
    "numStu"
   ]
  },
  {
   "cell_type": "code",
   "execution_count": null,
   "metadata": {
    "ExecuteTime": {
     "end_time": "2022-06-23T14:01:50.755966Z",
     "start_time": "2022-06-23T14:01:50.716196Z"
    }
   },
   "outputs": [],
   "source": [
    "# * Calculate the total budget\n",
    "df = pd.DataFrame(columns=['X', 'Y'])\n",
    "df= school_data_complete.sort_values(by=\"School ID\").groupby(\"school_name\", as_index=False).first()\n",
    "ttlBud=df['budget'].sum()\n",
    "ttlBud"
   ]
  },
  {
   "cell_type": "code",
   "execution_count": null,
   "metadata": {
    "ExecuteTime": {
     "end_time": "2022-06-23T14:01:50.941063Z",
     "start_time": "2022-06-23T14:01:50.925064Z"
    }
   },
   "outputs": [],
   "source": [
    "TTLstudents=school_data_complete['size'].sum()\n",
    "TTLstudents"
   ]
  },
  {
   "cell_type": "code",
   "execution_count": null,
   "metadata": {
    "ExecuteTime": {
     "end_time": "2022-06-23T14:01:51.143612Z",
     "start_time": "2022-06-23T14:01:51.134648Z"
    }
   },
   "outputs": [],
   "source": [
    "# * Calculate the average math score \n",
    "MEANmath=school_data_complete['math_score'].mean()\n",
    "MEANmath"
   ]
  },
  {
   "cell_type": "code",
   "execution_count": null,
   "metadata": {
    "ExecuteTime": {
     "end_time": "2022-06-23T14:01:51.327209Z",
     "start_time": "2022-06-23T14:01:51.322172Z"
    }
   },
   "outputs": [],
   "source": [
    "# * Calculate the average reading score\n",
    "MEANreading=school_data_complete['reading_score'].mean()\n",
    "MEANreading"
   ]
  },
  {
   "cell_type": "code",
   "execution_count": null,
   "metadata": {
    "ExecuteTime": {
     "end_time": "2022-06-23T14:01:51.543977Z",
     "start_time": "2022-06-23T14:01:51.512974Z"
    }
   },
   "outputs": [],
   "source": [
    "# * Calculate the overall passing rate (overall average score), i.e. (avg. math score + avg. reading score)/2\n",
    "# # Create bins and bin labels for the Math Scores\n",
    "math_bins = [0, 69, 100]\n",
    "math_labels = [0, 1]\n",
    "\n",
    "# # Bin the math score column\n",
    "# # cut() returns a Pandas Series containing each of the binned column's values translated into their corresponding bins\n",
    "\n",
    "mathCt=pd.cut(school_data_complete[\"math_score\"], math_bins, labels=math_labels)\n",
    "mathdf=pd.DataFrame(mathCt)\n",
    "# mathdf.describe()\n",
    "vc=pd.DataFrame(mathdf[\"math_score\"].value_counts())\n",
    "vc\n",
    "tlStu=vc.sum()\n",
    "numPassing=vc.iloc[0,:]\n",
    "passRateM=(numPassing/tlStu)\n",
    "passRateM\n",
    "#  PASS RATE MATH= "
   ]
  },
  {
   "cell_type": "code",
   "execution_count": null,
   "metadata": {
    "ExecuteTime": {
     "end_time": "2022-06-23T14:01:51.730577Z",
     "start_time": "2022-06-23T14:01:51.704612Z"
    }
   },
   "outputs": [],
   "source": [
    "# Create bins and bin labels for the Reading Scores\n",
    "read_bins = [0, 69, 100]\n",
    "read_labels = [0, 1]\n",
    "# # Bin the math score column\n",
    "# # cut() returns a Pandas Series containing each of the binned column's values translated into their corresponding bins\n",
    "readCt=pd.cut(school_data_complete[\"reading_score\"], read_bins, labels=read_labels)\n",
    "readdf=pd.DataFrame(readCt)\n",
    "readdf.describe()\n",
    "vcr=pd.DataFrame(readdf[\"reading_score\"].value_counts())\n",
    "# vcr\n",
    "tlStuR=vcr.sum()\n",
    "numPassing=vcr.iloc[0,:]\n",
    "passRateR=(numPassing/tlStuR)\n",
    "passRateR\n",
    "# READING PASS RATE="
   ]
  },
  {
   "cell_type": "code",
   "execution_count": null,
   "metadata": {
    "ExecuteTime": {
     "end_time": "2022-06-23T14:01:51.899190Z",
     "start_time": "2022-06-23T14:01:51.892213Z"
    }
   },
   "outputs": [],
   "source": [
    "# * Overall passing rate\n",
    "# avg_math_score = school_data_complete[\"math_score\"].mean()\n",
    "# avg_reading_score = school_data_complete[\"reading_score\"].mean()\n",
    "overall_pass = (MEANmath + MEANreading) / 2\n",
    "overall_pass #Overall Pass Rate"
   ]
  },
  {
   "cell_type": "code",
   "execution_count": null,
   "metadata": {
    "ExecuteTime": {
     "end_time": "2022-06-23T14:01:52.119006Z",
     "start_time": "2022-06-23T14:01:52.102971Z"
    }
   },
   "outputs": [],
   "source": [
    "# * Create a dataframe to hold the above results\n",
    "listData=[numSch,numStu,ttlBud,MEANmath,MEANreading,passRateM,passRateR,overall_pass]\n",
    "labels=['Total Schools','Total Students','Total Budget','Average Math Score','Average Reading Score','% Passing Math','% Passing Reading','% Overall Passing Rate']\n",
    "df1=pd.DataFrame(listData,labels).transpose()\n",
    "df1"
   ]
  },
  {
   "cell_type": "markdown",
   "metadata": {},
   "source": [
    "## School Summary"
   ]
  },
  {
   "cell_type": "markdown",
   "metadata": {},
   "source": [
    "* Created an overview table that summarizes key metrics about each school, including:\n",
    "  * School Name\n",
    "  * School Type\n",
    "  * Total Students\n",
    "  * Total School Budget\n",
    "  * Per Student Budget\n",
    "  * Average Math Score\n",
    "  * Average Reading Score\n",
    "  * % Passing Math\n",
    "  * % Passing Reading\n",
    "  * Overall Passing Rate (Average of the above two)\n",
    "  \n",
    "* Created a dataframe to hold the above results"
   ]
  },
  {
   "cell_type": "code",
   "execution_count": null,
   "metadata": {
    "ExecuteTime": {
     "end_time": "2022-06-23T14:01:53.037539Z",
     "start_time": "2022-06-23T14:01:53.025540Z"
    }
   },
   "outputs": [],
   "source": [
    "# sDcPristine.columns"
   ]
  },
  {
   "cell_type": "code",
   "execution_count": null,
   "metadata": {
    "ExecuteTime": {
     "end_time": "2022-06-23T14:01:53.255725Z",
     "start_time": "2022-06-23T14:01:53.219727Z"
    }
   },
   "outputs": [],
   "source": [
    "# Create an overview table that summarizes key metrics about each school, including:\n",
    "# School Name\n",
    "# School Type\n",
    "# Total Students\n",
    "# Total School Budget\n",
    "cypherListSum=sDcPristine[['school_name','School ID', 'type', 'size', 'budget']]\n",
    "schoolSum1= cypherListSum.sort_values(by=\"School ID\").groupby(\"school_name\", as_index=False).first()\n",
    "# schoolSum1"
   ]
  },
  {
   "cell_type": "code",
   "execution_count": null,
   "metadata": {
    "ExecuteTime": {
     "end_time": "2022-06-23T14:01:53.490469Z",
     "start_time": "2022-06-23T14:01:53.474470Z"
    }
   },
   "outputs": [],
   "source": [
    "# sDcPristine.columns"
   ]
  },
  {
   "cell_type": "code",
   "execution_count": null,
   "metadata": {
    "ExecuteTime": {
     "end_time": "2022-06-23T14:01:53.819722Z",
     "start_time": "2022-06-23T14:01:53.799072Z"
    }
   },
   "outputs": [],
   "source": [
    "cypherListSum2 = sDcPristine[['school_name','reading_score', 'math_score','size']]\n",
    "schoolSum2 = cypherListSum2.groupby(['school_name'])\n",
    "meanSch=schoolSum2.mean()\n",
    "meanSch\n",
    "meanSch.columns=['Avrg_Reading_Score', 'Avrg_Math_Score','#_Students']\n",
    "meanSch.reset_index()"
   ]
  },
  {
   "cell_type": "code",
   "execution_count": null,
   "metadata": {
    "ExecuteTime": {
     "end_time": "2022-06-23T14:01:54.145037Z",
     "start_time": "2022-06-23T14:01:54.097035Z"
    }
   },
   "outputs": [],
   "source": [
    "cypherListSum3 = sDcPristine[['school_name', 'student_name', 'grade','reading_score', 'math_score','size']]\n",
    "schoolSum3=cypherListSum3[cypherListSum3[\"reading_score\"]>=70]\n",
    "r = schoolSum3.groupby(['school_name'])\n",
    "rNumPassing=pd.DataFrame(r[\"reading_score\"].count())\n",
    "# rNumPassing.index\n",
    "rNumPassing.columns=['Read_Pass']\n",
    "rNumPassing\n",
    "rNumPassing.reset_index()\n"
   ]
  },
  {
   "cell_type": "code",
   "execution_count": null,
   "metadata": {
    "ExecuteTime": {
     "end_time": "2022-06-23T14:01:54.343744Z",
     "start_time": "2022-06-23T14:01:54.315950Z"
    }
   },
   "outputs": [],
   "source": [
    "cypherListSum4 = sDcPristine[['school_name', 'student_name', 'grade','reading_score', 'math_score','size']]\n",
    "schoolSum4=cypherListSum4[cypherListSum3[\"math_score\"]>=70]\n",
    "m = schoolSum4.groupby(['school_name'])\n",
    "mNumPassing=pd.DataFrame(m[\"math_score\"].count())\n",
    "mNumPassing.columns=['Math_Pass']\n",
    "mNumPassing# mNumPassing.index\n",
    "mNumPassing.reset_index()"
   ]
  },
  {
   "cell_type": "code",
   "execution_count": null,
   "metadata": {
    "ExecuteTime": {
     "end_time": "2022-06-23T14:01:54.624659Z",
     "start_time": "2022-06-23T14:01:54.593623Z"
    }
   },
   "outputs": [],
   "source": [
    "merSum=pd.merge(schoolSum1,meanSch,how=\"inner\",on=['school_name'])\n",
    "merSum1=pd.merge(merSum, rNumPassing, how=\"inner\", on=[\"school_name\"])\n",
    "school_SummaryTtl=pd.merge(merSum1, mNumPassing, how=\"inner\",on=[\"school_name\"])\n",
    "school_SummaryTtl['Pass_Rate_Reading']=school_SummaryTtl['Read_Pass'] / school_SummaryTtl['#_Students']\n",
    "school_SummaryTtl['Pass_Rate_Math']=school_SummaryTtl['Math_Pass'] / school_SummaryTtl['#_Students']\n",
    "school_SummaryTtl['Overall_Pass_Rate']=(school_SummaryTtl['Avrg_Reading_Score'] +school_SummaryTtl['Avrg_Math_Score'])/ 2\n",
    "school_SummaryTtl['Budget_per_Student']=school_SummaryTtl['budget'] / school_SummaryTtl['#_Students']\n",
    "school_SummaryTtl"
   ]
  },
  {
   "cell_type": "markdown",
   "metadata": {},
   "source": [
    "## Top Performing Schools (By Passing Rate)"
   ]
  },
  {
   "cell_type": "markdown",
   "metadata": {},
   "source": [
    "* Sorted and displayed the top five schools in overall passing rate"
   ]
  },
  {
   "cell_type": "code",
   "execution_count": null,
   "metadata": {
    "ExecuteTime": {
     "end_time": "2022-06-23T14:01:55.215541Z",
     "start_time": "2022-06-23T14:01:55.207302Z"
    }
   },
   "outputs": [],
   "source": [
    "\n",
    "school_SummaryTtl.drop(columns=['#_Students','Read_Pass','Math_Pass'],axis=1,inplace=True)\n",
    "bestWorst=school_SummaryTtl.sort_values(by=['Overall_Pass_Rate'],ascending=False)\n"
   ]
  },
  {
   "cell_type": "code",
   "execution_count": null,
   "metadata": {
    "ExecuteTime": {
     "end_time": "2022-06-23T14:01:55.725861Z",
     "start_time": "2022-06-23T14:01:55.702826Z"
    }
   },
   "outputs": [],
   "source": [
    "bestWorst.head()"
   ]
  },
  {
   "cell_type": "markdown",
   "metadata": {},
   "source": [
    "## Bottom Performing Schools (By Passing Rate)"
   ]
  },
  {
   "cell_type": "markdown",
   "metadata": {},
   "source": [
    "* Sorted and displayed the five worst-performing schools"
   ]
  },
  {
   "cell_type": "code",
   "execution_count": null,
   "metadata": {
    "ExecuteTime": {
     "end_time": "2022-06-23T14:01:56.380584Z",
     "start_time": "2022-06-23T14:01:56.363323Z"
    }
   },
   "outputs": [],
   "source": [
    "bestWorst.tail()"
   ]
  },
  {
   "cell_type": "markdown",
   "metadata": {
    "collapsed": true
   },
   "source": [
    "## Math Scores by Grade"
   ]
  },
  {
   "cell_type": "markdown",
   "metadata": {},
   "source": [
    "* Table that lists the average Reading Score for students of each grade level (9th, 10th, 11th, 12th) at each school.\n",
    "\n",
    "  * Pandas series for each grade.\n",
    "  \n",
    "  * Grouped each series by school\n",
    "  \n",
    "  * Combined the series into a dataframe"
   ]
  },
  {
   "cell_type": "code",
   "execution_count": null,
   "metadata": {
    "ExecuteTime": {
     "end_time": "2022-06-23T14:01:57.017131Z",
     "start_time": "2022-06-23T14:01:56.992167Z"
    }
   },
   "outputs": [],
   "source": [
    "freshman=sDcPristine[sDcPristine['grade']=='9th']\n",
    "sophomore=sDcPristine[sDcPristine['grade']=='10th']\n",
    "junior=sDcPristine[sDcPristine['grade']=='11th']\n",
    "senior=sDcPristine[sDcPristine['grade']=='12th']"
   ]
  },
  {
   "cell_type": "code",
   "execution_count": null,
   "metadata": {
    "ExecuteTime": {
     "end_time": "2022-06-23T14:01:57.313710Z",
     "start_time": "2022-06-23T14:01:57.299708Z"
    }
   },
   "outputs": [],
   "source": [
    "fmM = pd.DataFrame(freshman.groupby('school_name')['math_score'].mean())\n",
    "fmM.columns=[\"9th_Average_Math_Score\"]\n",
    "fmM.reset_index()"
   ]
  },
  {
   "cell_type": "code",
   "execution_count": null,
   "metadata": {
    "ExecuteTime": {
     "end_time": "2022-06-23T14:01:57.587580Z",
     "start_time": "2022-06-23T14:01:57.574382Z"
    }
   },
   "outputs": [],
   "source": [
    "soM = pd.DataFrame(sophomore.groupby('school_name')['math_score'].mean())\n",
    "soM.columns=[\"10th_Average_Math_Score\"]\n",
    "soM.reset_index()\n",
    "# byGrade=pd.concat([fmM, soM], verify_integrity=True, sort=False, axis=1, join='outer')\n",
    "merSum2=pd.merge(fmM, soM, how=\"inner\", on=[\"school_name\"])\n",
    "merSum2"
   ]
  },
  {
   "cell_type": "code",
   "execution_count": null,
   "metadata": {
    "ExecuteTime": {
     "end_time": "2022-06-23T14:01:57.869618Z",
     "start_time": "2022-06-23T14:01:57.855610Z"
    }
   },
   "outputs": [],
   "source": [
    "jrM = pd.DataFrame(junior.groupby('school_name')['math_score'].mean())\n",
    "jrM.columns=[\"11th_Average_Math_Score\"]\n",
    "jrM.reset_index()\n",
    "merSum3=pd.merge(merSum2, jrM, how=\"inner\", on=[\"school_name\"])\n",
    "merSum3"
   ]
  },
  {
   "cell_type": "code",
   "execution_count": null,
   "metadata": {
    "ExecuteTime": {
     "end_time": "2022-06-23T14:01:58.163471Z",
     "start_time": "2022-06-23T14:01:58.134681Z"
    }
   },
   "outputs": [],
   "source": [
    "srM = pd.DataFrame(senior.groupby('school_name')['math_score'].mean())\n",
    "srM.columns=[\"12th_Average_Math_Score\"]\n",
    "srM.reset_index()\n",
    "merSum4=pd.merge(merSum3, srM, how=\"inner\", on=[\"school_name\"])\n",
    "merSum4"
   ]
  },
  {
   "cell_type": "code",
   "execution_count": null,
   "metadata": {},
   "outputs": [],
   "source": []
  },
  {
   "cell_type": "markdown",
   "metadata": {},
   "source": [
    "## Reading Score by Grade "
   ]
  },
  {
   "cell_type": "markdown",
   "metadata": {},
   "source": [
    "* Performed the same operations as above for reading scores"
   ]
  },
  {
   "cell_type": "code",
   "execution_count": null,
   "metadata": {
    "ExecuteTime": {
     "end_time": "2022-06-23T14:01:58.860045Z",
     "start_time": "2022-06-23T14:01:58.838046Z"
    },
    "scrolled": true
   },
   "outputs": [],
   "source": [
    "fm = pd.DataFrame(freshman.groupby('school_name')['reading_score'].mean())\n",
    "fm.columns=[\"9th_Average_Reading_Score\"]\n",
    "fm.reset_index()\n"
   ]
  },
  {
   "cell_type": "code",
   "execution_count": null,
   "metadata": {
    "ExecuteTime": {
     "end_time": "2022-06-23T14:01:59.225499Z",
     "start_time": "2022-06-23T14:01:59.211502Z"
    },
    "scrolled": true
   },
   "outputs": [],
   "source": [
    "sm = pd.DataFrame(sophomore.groupby('school_name')['reading_score'].mean())\n",
    "sm.columns=[\"10th_Average_Reading_Score\"]\n",
    "sm.reset_index()\n",
    "merSumA=pd.merge(fm, sm, how=\"inner\", on=[\"school_name\"])\n",
    "merSumA.reset_index()"
   ]
  },
  {
   "cell_type": "code",
   "execution_count": null,
   "metadata": {
    "ExecuteTime": {
     "end_time": "2022-06-23T14:01:59.548814Z",
     "start_time": "2022-06-23T14:01:59.519152Z"
    }
   },
   "outputs": [],
   "source": [
    "jr = pd.DataFrame(junior.groupby('school_name')['reading_score'].mean())\n",
    "jr.columns=[\"11th_Average_Reading_Score\"]\n",
    "jr.reset_index()\n",
    "merSumB=pd.merge(merSumA, jr, how=\"inner\", on=[\"school_name\"])\n",
    "merSumB.reset_index()"
   ]
  },
  {
   "cell_type": "code",
   "execution_count": null,
   "metadata": {
    "ExecuteTime": {
     "end_time": "2022-06-23T14:01:59.860580Z",
     "start_time": "2022-06-23T14:01:59.845542Z"
    }
   },
   "outputs": [],
   "source": [
    "sr= pd.DataFrame(senior.groupby('school_name')['reading_score'].mean())\n",
    "sr.columns=[\"12th_Average_Reading_Score\"]\n",
    "sr.reset_index()\n",
    "merSumC=pd.merge(merSumB, sr, how=\"inner\", on=[\"school_name\"])\n",
    "merSumC.reset_index()"
   ]
  },
  {
   "cell_type": "markdown",
   "metadata": {},
   "source": [
    "## Scores by School Spending"
   ]
  },
  {
   "cell_type": "markdown",
   "metadata": {},
   "source": [
    "* Table breaks down school performances based on average Spending Ranges (Per Student). Using 4 bins to group school spending. Includes each of the following in the table :\n",
    "  * Average Math Score\n",
    "  * Average Reading Score\n",
    "  * % Passing Math\n",
    "  * % Passing Reading\n",
    "  * Overall Passing Rate (Average of the above two)"
   ]
  },
  {
   "cell_type": "code",
   "execution_count": null,
   "metadata": {
    "ExecuteTime": {
     "end_time": "2022-06-23T14:02:00.225945Z",
     "start_time": "2022-06-23T14:02:00.196945Z"
    }
   },
   "outputs": [],
   "source": [
    "# Sample bins. Feel free to create your own bins.\n",
    "spending_bins = [0, 585, 615, 645, 675]\n",
    "group_names = [\"Low\", \"Mid-Low\", \"Medium-High\", \"High\"]\n",
    "\n",
    "bPSS=pd.DataFrame()\n",
    "bPSS[\"Budget_per_Student Summary\"] = pd.cut(school_SummaryTtl[\"Budget_per_Student\"], bins=spending_bins, labels=group_names)\n",
    "bPSS.index=['Bailey High School', 'Cabrera High School', 'Figueroa High School',\n",
    "       'Ford High School', 'Griffin High School', 'Hernandez High School',\n",
    "       'Holden High School', 'Huang High School', 'Johnson High School',\n",
    "       'Pena High School', 'Rodriguez High School', 'Shelton High School',\n",
    "       'Thomas High School', 'Wilson High School', 'Wright High School']\n",
    "bPSS['school_name']=['Bailey High School', 'Cabrera High School', 'Figueroa High School',\n",
    "       'Ford High School', 'Griffin High School', 'Hernandez High School',\n",
    "       'Holden High School', 'Huang High School', 'Johnson High School',\n",
    "       'Pena High School', 'Rodriguez High School', 'Shelton High School',\n",
    "       'Thomas High School', 'Wilson High School', 'Wright High School']\n",
    "merSum5=pd.merge(bPSS, bestWorst, how=\"inner\")\n",
    "merSum5.columns=['Scores_by_School_Spending', 'School_Name', 'School ID', 'Type', 'Size',\n",
    "       'Budget', 'Avrg_Reading_Score', 'Avrg_Math_Score', 'Pass_Rate_Reading',\n",
    "       'Pass_Rate_Math', 'Overall_Pass_Rate', 'Budget_per_Student']\n",
    "merSum5.drop(['School ID',\"Type\",'Size','Budget'], inplace=True, axis=1)\n",
    "merSum5.sort_values(by=['Overall_Pass_Rate'],ascending=False, inplace=True)\n",
    "merSum5.reset_index(drop=True)"
   ]
  },
  {
   "cell_type": "markdown",
   "metadata": {},
   "source": [
    "## Scores by School Size"
   ]
  },
  {
   "cell_type": "markdown",
   "metadata": {},
   "source": [
    "* Performed the same operations as above, based on school size."
   ]
  },
  {
   "cell_type": "code",
   "execution_count": null,
   "metadata": {
    "ExecuteTime": {
     "end_time": "2022-06-23T14:02:01.640823Z",
     "start_time": "2022-06-23T14:02:00.843448Z"
    }
   },
   "outputs": [],
   "source": [
    "# Sample bins. Feel free to create your own bins.\n",
    "size_bins = [0, 1000, 2000, 5000]\n",
    "group_names = [\"Small (<1000)\", \"Medium (1000-2000)\", \"Large (2000-5000)\"]\n",
    "\n",
    "sBSS=pd.DataFrame()\n",
    "sBSS[\"Scores_by_School_Size\"] = pd.cut(school_SummaryTtl[\"size\"], bins=size_bins, labels=group_names)\n",
    "sBSS.index=['Bailey High School', 'Cabrera High School', 'Figueroa High School',\n",
    "       'Ford High School', 'Griffin High School', 'Hernandez High School',\n",
    "       'Holden High School', 'Huang High School', 'Johnson High School',\n",
    "       'Pena High School', 'Rodriguez High School', 'Shelton High School',\n",
    "       'Thomas High School', 'Wilson High School', 'Wright High School']\n",
    "sBSS['school_name']=['Bailey High School', 'Cabrera High School', 'Figueroa High School',\n",
    "       'Ford High School', 'Griffin High School', 'Hernandez High School',\n",
    "       'Holden High School', 'Huang High School', 'Johnson High School',\n",
    "       'Pena High School', 'Rodriguez High School', 'Shelton High School',\n",
    "       'Thomas High School', 'Wilson High School', 'Wright High School']\n",
    "sBSS\n",
    "merSum6=pd.merge(sBSS, bestWorst, how=\"inner\")\n",
    "merSum6.columns=['Scores_by_School_Size', 'School_Name', 'School ID', 'Type', 'Size',\n",
    "       'Budget', 'Avrg_Reading_Score', 'Avrg_Math_Score', 'Pass_Rate_Reading',\n",
    "       'Pass_Rate_Math', 'Overall_Pass_Rate', 'Budget_per_Student']\n",
    "merSum6.style.hide_columns(['Avrg_Reading_Score','Avrg_Math_Score','Pass_Rate_Reading','Pass_Rate_Math','Budget_per_Student'])\n",
    "merSum6.reset_index(drop=True)\n",
    "merSum6.drop(['School ID','Size','Budget','Budget_per_Student'], inplace=True, axis=1)\n",
    "merSum6.sort_values(by=['Overall_Pass_Rate'],ascending=False, inplace=True)\n",
    "merSum6.reset_index(drop=True)\n",
    "# merSum6"
   ]
  },
  {
   "cell_type": "markdown",
   "metadata": {},
   "source": [
    "## Scores by School Type"
   ]
  },
  {
   "cell_type": "markdown",
   "metadata": {},
   "source": [
    "* Perform the same operations as above, based on school type."
   ]
  },
  {
   "cell_type": "code",
   "execution_count": null,
   "metadata": {
    "ExecuteTime": {
     "end_time": "2022-06-23T14:02:02.229058Z",
     "start_time": "2022-06-23T14:02:02.198060Z"
    },
    "scrolled": false
   },
   "outputs": [],
   "source": [
    "merSum6.columns=['Scores_by_School_Type', 'School_Name','Type', 'Avrg_Reading_Score', 'Avrg_Math_Score', 'Pass_Rate_Reading',\n",
    "       'Pass_Rate_Math', 'Overall_Pass_Rate']\n",
    "# merSum6.style.hide_columns(['Avrg_Reading_Score','Avrg_Math_Score','Pass_Rate_Reading','Pass_Rate_Math','Budget_per_Student'])\n",
    "merSum6.sort_values(by=['Overall_Pass_Rate'],ascending=False, inplace=True)\n",
    "merSum6.reset_index(drop=True)\n",
    "# merSum6"
   ]
  },
  {
   "cell_type": "code",
   "execution_count": null,
   "metadata": {
    "ExecuteTime": {
     "end_time": "2022-06-23T14:02:02.614283Z",
     "start_time": "2022-06-23T14:02:02.601176Z"
    }
   },
   "outputs": [],
   "source": [
    "# Conclusions\n",
    "## 1) BUDGET--Overall passing rate seemed inversely proportional to amount of money spent per Student\n",
    "## 2) SIZE-- With one exception,large Schools had the worst Overall Passing Rates\n",
    "## 3) TYPE-- Charter schools consistently had the best Overall Pass Rates\n",
    "\n"
   ]
  }
 ],
 "metadata": {
  "anaconda-cloud": {},
  "kernel_info": {
   "name": "python3"
  },
  "kernelspec": {
   "display_name": "Python 3",
   "language": "python",
   "name": "python3"
  },
  "language_info": {
   "codemirror_mode": {
    "name": "ipython",
    "version": 3
   },
   "file_extension": ".py",
   "mimetype": "text/x-python",
   "name": "python",
   "nbconvert_exporter": "python",
   "pygments_lexer": "ipython3",
   "version": "3.8.8"
  },
  "latex_envs": {
   "LaTeX_envs_menu_present": true,
   "autoclose": false,
   "autocomplete": true,
   "bibliofile": "biblio.bib",
   "cite_by": "apalike",
   "current_citInitial": 1,
   "eqLabelWithNumbers": true,
   "eqNumInitial": 1,
   "hotkeys": {
    "equation": "Ctrl-E",
    "itemize": "Ctrl-I"
   },
   "labels_anchors": false,
   "latex_user_defs": false,
   "report_style_numbering": false,
   "user_envs_cfg": false
  },
  "nteract": {
   "version": "0.8.4"
  },
  "toc": {
   "base_numbering": 1,
   "nav_menu": {},
   "number_sections": true,
   "sideBar": true,
   "skip_h1_title": false,
   "title_cell": "Table of Contents",
   "title_sidebar": "Contents",
   "toc_cell": true,
   "toc_position": {
    "height": "calc(100% - 180px)",
    "left": "10px",
    "top": "150px",
    "width": "307.2px"
   },
   "toc_section_display": true,
   "toc_window_display": true
  },
  "varInspector": {
   "cols": {
    "lenName": 16,
    "lenType": 16,
    "lenVar": 40
   },
   "kernels_config": {
    "python": {
     "delete_cmd_postfix": "",
     "delete_cmd_prefix": "del ",
     "library": "var_list.py",
     "varRefreshCmd": "print(var_dic_list())"
    },
    "r": {
     "delete_cmd_postfix": ") ",
     "delete_cmd_prefix": "rm(",
     "library": "var_list.r",
     "varRefreshCmd": "cat(var_dic_list()) "
    }
   },
   "types_to_exclude": [
    "module",
    "function",
    "builtin_function_or_method",
    "instance",
    "_Feature"
   ],
   "window_display": false
  },
  "vscode": {
   "interpreter": {
    "hash": "ad2bdc8ecc057115af97d19610ffacc2b4e99fae6737bb82f5d7fb13d2f2c186"
   }
  }
 },
 "nbformat": 4,
 "nbformat_minor": 1
}
